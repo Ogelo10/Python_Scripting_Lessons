{
 "cells": [
  {
   "cell_type": "code",
   "execution_count": 1,
   "metadata": {},
   "outputs": [],
   "source": [
    "# Python Threading\n",
    "# A process is an executable instance of a computer program\n",
    "# A thread is a sequence of instructions that can be executed independently of the remaining program\n",
    "# A thread exists within a process\n",
    "# The importance of threading is to make maximum use of the CPU cores in the system\n"
   ]
  },
  {
   "cell_type": "code",
   "execution_count": 2,
   "metadata": {},
   "outputs": [
    {
     "name": "stdout",
     "output_type": "stream",
     "text": [
      "This is a child thread\n",
      "This is parent thread\n"
     ]
    }
   ],
   "source": [
    "# First way of creating a thread\n",
    "from threading import *\n",
    "def show():\n",
    "    print('This is a child thread')\n",
    "t=Thread(target=show())\n",
    "print('This is parent thread')\n",
    "t.start()"
   ]
  },
  {
   "cell_type": "code",
   "execution_count": 8,
   "metadata": {},
   "outputs": [
    {
     "name": "stdout",
     "output_type": "stream",
     "text": [
      "\n",
      "This is a child class\n",
      "\n",
      "This is a child class\n",
      "\n",
      "This is a child class\n",
      "\n",
      "This is a child class\n",
      "\n",
      "This is a child class\n",
      "\n",
      "This is the main thread\n",
      "\n",
      "This is the main thread\n",
      "\n",
      "This is the main thread\n",
      "\n",
      "This is the main thread\n",
      "\n",
      "This is the main thread\n"
     ]
    }
   ],
   "source": [
    "# Second way of creating a thread - importing the Thread class\n",
    "from threading import *\n",
    "class MyThread(Thread):\n",
    "    def run(self):\n",
    "        for i in range(5):\n",
    "            print('\\nThis is a child class')\n",
    "t=MyThread()\n",
    "t.start()\n",
    "\n",
    "for i in range(5):\n",
    "    print('\\nThis is the main thread')\n",
    "\n",
    "# Every thread that is created from the Thread class is designed to call the run function by default.\n",
    "# So if you don.t pass an argument to it, it will call the run function by default."
   ]
  },
  {
   "cell_type": "code",
   "execution_count": 6,
   "metadata": {},
   "outputs": [
    {
     "name": "stdout",
     "output_type": "stream",
     "text": [
      "This is a child thread\n",
      "This is a child thread\n",
      "This is a child thread\n",
      "This is a child thread\n",
      "This is a child thread\n",
      "This is the parent thread\n",
      "This is the parent thread\n",
      "This is the parent thread\n",
      "This is the parent thread\n",
      "This is the parent thread\n"
     ]
    }
   ],
   "source": [
    "# Third way of creating a thread\n",
    "from threading import *\n",
    "class Demo:\n",
    "    def show(self):\n",
    "        for i in range(5):\n",
    "            print('This is a child thread')\n",
    "            \n",
    "obj=Demo()\n",
    "t=Thread(target=obj.show())\n",
    "t.start()\n",
    "\n",
    "for i in range(5):\n",
    "    print('This is the parent thread')"
   ]
  },
  {
   "cell_type": "code",
   "execution_count": null,
   "metadata": {},
   "outputs": [],
   "source": [
    "# Context Switching\n",
    "# This means Storing the state of a process or thread and resuming its its execution at a later time \n",
    "# Multithreading is a model where multiple threads within a process execute independently while sharing the same resources"
   ]
  },
  {
   "cell_type": "code",
   "execution_count": 3,
   "metadata": {},
   "outputs": [
    {
     "name": "stdout",
     "output_type": "stream",
     "text": [
      "The number is  1\n",
      "The double of the number is The square of the number is  1\n",
      " 2\n",
      "The number is  2\n",
      "The square of the number is  4\n",
      "The double of the number is  4\n",
      "The number is  3\n",
      "The square of the number is  9\n",
      "The double of the number is  6\n",
      "The number is  4\n",
      "The square of the number is  16\n",
      "The double of the number is  8\n",
      "The number is  5\n",
      "The square of the number is  25\n",
      "The double of the number is  10\n",
      "This is the main thread\n"
     ]
    }
   ],
   "source": [
    "from threading import *\n",
    "import time\n",
    "class Demo:\n",
    "    def num(self):\n",
    "        for i in range(1,6):\n",
    "            print('The number is ',i)\n",
    "            time.sleep(1)\n",
    "            \n",
    "    def double(self):\n",
    "        for i in range(1,6):\n",
    "            print('The double of the number is ',2*i)\n",
    "            time.sleep(1)\n",
    "    def square(self):\n",
    "        for i in range(1,6):\n",
    "            print('The square of the number is ',i*i)\n",
    "            time.sleep(1)\n",
    "obj = Demo()\n",
    "t1=Thread(target=obj.num)\n",
    "t2=Thread(target=obj.double)\n",
    "t3=Thread(target=obj.square)\n",
    "\n",
    "t1.start()\n",
    "t2.start()\n",
    "t3.start()\n",
    "\n",
    "t1.join()\n",
    "t2.join()\n",
    "t3.join()\n",
    "\n",
    "print('This is the main thread')"
   ]
  },
  {
   "cell_type": "code",
   "execution_count": 5,
   "metadata": {},
   "outputs": [
    {
     "name": "stdout",
     "output_type": "stream",
     "text": [
      "Hello and welcome to Ogelo.xyz\n",
      "Goodbye\n",
      "Goodbye\n",
      "Goodbye\n",
      "Goodbye\n",
      "Goodbye\n"
     ]
    }
   ],
   "source": [
    "import time\n",
    "print('Hello and welcome to Ogelo.xyz')\n",
    "time.sleep(5)\n",
    "print('Goodbye')\n",
    "time.sleep(5)\n",
    "print('Goodbye')\n",
    "time.sleep(5)\n",
    "print('Goodbye')\n",
    "time.sleep(5)\n",
    "print('Goodbye')\n",
    "time.sleep(5)\n",
    "print('Goodbye')"
   ]
  },
  {
   "cell_type": "code",
   "execution_count": null,
   "metadata": {},
   "outputs": [],
   "source": []
  },
  {
   "cell_type": "code",
   "execution_count": null,
   "metadata": {},
   "outputs": [],
   "source": []
  },
  {
   "cell_type": "code",
   "execution_count": null,
   "metadata": {},
   "outputs": [],
   "source": []
  },
  {
   "cell_type": "code",
   "execution_count": null,
   "metadata": {},
   "outputs": [],
   "source": []
  },
  {
   "cell_type": "code",
   "execution_count": null,
   "metadata": {},
   "outputs": [],
   "source": []
  },
  {
   "cell_type": "code",
   "execution_count": null,
   "metadata": {},
   "outputs": [],
   "source": []
  },
  {
   "cell_type": "code",
   "execution_count": null,
   "metadata": {},
   "outputs": [],
   "source": []
  },
  {
   "cell_type": "code",
   "execution_count": null,
   "metadata": {},
   "outputs": [],
   "source": []
  },
  {
   "cell_type": "code",
   "execution_count": null,
   "metadata": {},
   "outputs": [],
   "source": []
  },
  {
   "cell_type": "code",
   "execution_count": null,
   "metadata": {},
   "outputs": [],
   "source": []
  },
  {
   "cell_type": "code",
   "execution_count": null,
   "metadata": {},
   "outputs": [],
   "source": []
  },
  {
   "cell_type": "code",
   "execution_count": null,
   "metadata": {},
   "outputs": [],
   "source": []
  },
  {
   "cell_type": "code",
   "execution_count": null,
   "metadata": {},
   "outputs": [],
   "source": []
  },
  {
   "cell_type": "code",
   "execution_count": null,
   "metadata": {},
   "outputs": [],
   "source": []
  },
  {
   "cell_type": "code",
   "execution_count": null,
   "metadata": {},
   "outputs": [],
   "source": []
  },
  {
   "cell_type": "code",
   "execution_count": null,
   "metadata": {},
   "outputs": [],
   "source": []
  },
  {
   "cell_type": "code",
   "execution_count": null,
   "metadata": {},
   "outputs": [],
   "source": []
  },
  {
   "cell_type": "code",
   "execution_count": null,
   "metadata": {},
   "outputs": [],
   "source": []
  },
  {
   "cell_type": "code",
   "execution_count": null,
   "metadata": {},
   "outputs": [],
   "source": []
  },
  {
   "cell_type": "code",
   "execution_count": null,
   "metadata": {},
   "outputs": [],
   "source": [
    "\n"
   ]
  }
 ],
 "metadata": {
  "kernelspec": {
   "display_name": "Python 3",
   "language": "python",
   "name": "python3"
  },
  "language_info": {
   "codemirror_mode": {
    "name": "ipython",
    "version": 3
   },
   "file_extension": ".py",
   "mimetype": "text/x-python",
   "name": "python",
   "nbconvert_exporter": "python",
   "pygments_lexer": "ipython3",
   "version": "3.7.6"
  }
 },
 "nbformat": 4,
 "nbformat_minor": 4
}
